{
 "cells": [
  {
   "cell_type": "code",
   "execution_count": null,
   "metadata": {
    "id": "-WdkqJLm3Mct"
   },
   "outputs": [],
   "source": [
    "from io import IncrementalNewlineDecoder\n",
    "import numpy as np #Linear algebra\n",
    "import pandas as pd #Data processing, csv file I/O (e.g. pd.read_csv)\n",
    "import matplotlib.pyplot as plt #for data visualization\n",
    "import seaborn as sns #for statistical data visualization\n",
    "%matplotlib inline\n",
    "import os\n",
    "for dirname, _, filenames in os.walk('/kaggle/input'):\n",
    "  for filename in filenames:\n",
    "    print(os.path.join(dirname, filename))\n",
    "\n"
   ]
  },
  {
   "cell_type": "code",
   "execution_count": null,
   "metadata": {
    "id": "XsLTpP6a7UAU"
   },
   "outputs": [],
   "source": [
    "import warnings\n",
    "warnings.filterwarnings('ignore')"
   ]
  },
  {
   "cell_type": "code",
   "execution_count": null,
   "metadata": {
    "id": "eVZPECD67hV-"
   },
   "outputs": [],
   "source": [
    "df=pd.read_csv(\"sales_data_sample.csv\",sep=\",\",encoding='Latin-1')"
   ]
  },
  {
   "cell_type": "code",
   "execution_count": null,
   "metadata": {
    "colab": {
     "base_uri": "https://localhost:8080/"
    },
    "id": "eTXRfeRy75eH",
    "outputId": "a7958743-15d7-4346-c8c1-88d46b1fbb3d"
   },
   "outputs": [],
   "source": [
    "df.shape"
   ]
  },
  {
   "cell_type": "code",
   "execution_count": null,
   "metadata": {
    "colab": {
     "base_uri": "https://localhost:8080/",
     "height": 404
    },
    "id": "rdRSBnkG79IB",
    "outputId": "1658d1f6-e368-407f-c61f-fe8f76663a19"
   },
   "outputs": [],
   "source": [
    "df.head()"
   ]
  },
  {
   "cell_type": "code",
   "execution_count": null,
   "metadata": {
    "colab": {
     "base_uri": "https://localhost:8080/"
    },
    "id": "9MkZRtpK8Fwd",
    "outputId": "858e4917-fa7e-436b-96bb-36835199664e"
   },
   "outputs": [],
   "source": [
    "df.info()"
   ]
  },
  {
   "cell_type": "code",
   "execution_count": null,
   "metadata": {
    "colab": {
     "base_uri": "https://localhost:8080/"
    },
    "id": "Pk5qbo8X8Oqb",
    "outputId": "16f7e2c6-c80f-48b9-ea5c-1a9b99e827ed"
   },
   "outputs": [],
   "source": [
    "df.isnull().sum()"
   ]
  },
  {
   "cell_type": "code",
   "execution_count": null,
   "metadata": {
    "colab": {
     "base_uri": "https://localhost:8080/",
     "height": 311
    },
    "id": "ZQH2NqDJ8XVI",
    "outputId": "f260ad14-0826-4a1e-d499-8f3690b7da5e"
   },
   "outputs": [],
   "source": [
    "df.drop(['Column1','Column2','Column3','Column4'],axis=1,inplace=True)"
   ]
  },
  {
   "cell_type": "code",
   "execution_count": null,
   "metadata": {
    "colab": {
     "base_uri": "https://localhost:8080/"
    },
    "id": "C3aPlaKF881w",
    "outputId": "9dd2f013-0c07-4433-92a5-c1263b7a3561"
   },
   "outputs": [],
   "source": [
    "df.info()"
   ]
  },
  {
   "cell_type": "code",
   "execution_count": null,
   "metadata": {
    "colab": {
     "base_uri": "https://localhost:8080/",
     "height": 300
    },
    "id": "Mu4KZhDX9JSj",
    "outputId": "b382d1ec-24ac-4411-f4e8-bd9dc06d69f0"
   },
   "outputs": [],
   "source": [
    "df.describe()"
   ]
  },
  {
   "cell_type": "code",
   "execution_count": null,
   "metadata": {
    "colab": {
     "base_uri": "https://localhost:8080/"
    },
    "id": "YDO9NWOn9SDE",
    "outputId": "a241a14a-6034-4d24-90a4-70bbd0d0bbf8"
   },
   "outputs": [],
   "source": [
    "#View the labels in the variable\n",
    "\n",
    "df['ORDERNUMBER'].unique()"
   ]
  },
  {
   "cell_type": "code",
   "execution_count": null,
   "metadata": {
    "colab": {
     "base_uri": "https://localhost:8080/"
    },
    "id": "8fUyFfyS9j9j",
    "outputId": "fecc8c07-0dd4-4412-b9e8-c670f36622e2"
   },
   "outputs": [],
   "source": [
    "#View how many different types of variable are there\n",
    "len(df['ORDERNUMBER'].unique())"
   ]
  },
  {
   "cell_type": "code",
   "execution_count": null,
   "metadata": {
    "colab": {
     "base_uri": "https://localhost:8080/"
    },
    "id": "7QoTYa3D-UEp",
    "outputId": "94ca4173-6c0d-4742-c71d-dce5e06a9de6"
   },
   "outputs": [],
   "source": [
    "#View the labels in the variable\n",
    "df['QUANTITYORDERED'].unique()"
   ]
  },
  {
   "cell_type": "code",
   "execution_count": null,
   "metadata": {
    "colab": {
     "base_uri": "https://localhost:8080/"
    },
    "id": "A-RArGUU-_Gw",
    "outputId": "a59d6f87-697f-4608-cd19-c42359471c58"
   },
   "outputs": [],
   "source": [
    "len(df['QUANTITYORDERED'].unique())"
   ]
  },
  {
   "cell_type": "code",
   "execution_count": null,
   "metadata": {
    "colab": {
     "base_uri": "https://localhost:8080/"
    },
    "id": "ZF8-2tBw_Jr4",
    "outputId": "abcd5c96-37a7-4a53-b70d-5f10febe7d54"
   },
   "outputs": [],
   "source": [
    "df['SALES'].unique()"
   ]
  },
  {
   "cell_type": "code",
   "execution_count": null,
   "metadata": {
    "colab": {
     "base_uri": "https://localhost:8080/"
    },
    "id": "6Iq8u5EQ_cgA",
    "outputId": "d948fb64-6fca-458a-ad3e-5a8c7d274f33"
   },
   "outputs": [],
   "source": [
    "len(df['SALES'].unique())"
   ]
  },
  {
   "cell_type": "code",
   "execution_count": null,
   "metadata": {
    "colab": {
     "base_uri": "https://localhost:8080/",
     "height": 311
    },
    "id": "eAunljQ6_kf-",
    "outputId": "ef168261-e8e8-40a1-9590-c0527e4674bf"
   },
   "outputs": [],
   "source": [
    "df.drop(['ORDERNUMBER','QUANTITYORDERED'],axis=1,inplace=True)"
   ]
  },
  {
   "cell_type": "code",
   "execution_count": null,
   "metadata": {
    "colab": {
     "base_uri": "https://localhost:8080/"
    },
    "id": "H-Dgg608ARSL",
    "outputId": "94299e45-eb41-4d60-e1fe-a162b2f53ef7"
   },
   "outputs": [],
   "source": [
    "df.info()"
   ]
  },
  {
   "cell_type": "code",
   "execution_count": null,
   "metadata": {
    "colab": {
     "base_uri": "https://localhost:8080/",
     "height": 404
    },
    "id": "rm0qZvw3AZzQ",
    "outputId": "f6a026f5-aebf-4ae8-c719-8339683e1f8e"
   },
   "outputs": [],
   "source": [
    "df.head()"
   ]
  },
  {
   "cell_type": "code",
   "execution_count": null,
   "metadata": {
    "id": "BZziT-R4AjAB"
   },
   "outputs": [],
   "source": [
    "x=df\n",
    "y=df['SALES']"
   ]
  },
  {
   "cell_type": "code",
   "execution_count": null,
   "metadata": {
    "id": "1LeO4UcZAsw_"
   },
   "outputs": [],
   "source": [
    "from sklearn.preprocessing import LabelEncoder\n",
    "le=LabelEncoder()\n",
    "x['status_type']=le.fit_transform(x['SALES'])\n",
    "y=le.transform(y)"
   ]
  },
  {
   "cell_type": "code",
   "execution_count": null,
   "metadata": {
    "colab": {
     "base_uri": "https://localhost:8080/"
    },
    "id": "w8A-3IqhBQBM",
    "outputId": "cd170600-b03c-4643-c006-408126cbd1e4"
   },
   "outputs": [],
   "source": [
    "x.info()"
   ]
  },
  {
   "cell_type": "code",
   "execution_count": null,
   "metadata": {
    "colab": {
     "base_uri": "https://localhost:8080/",
     "height": 386
    },
    "id": "o13svIJ-BqgT",
    "outputId": "f5a710cd-a217-469f-a0d6-bb5225dcf585"
   },
   "outputs": [],
   "source": [
    "x.head()"
   ]
  },
  {
   "cell_type": "code",
   "execution_count": null,
   "metadata": {
    "id": "qvUk35tZCUYF"
   },
   "outputs": [],
   "source": [
    "cols=x.columns"
   ]
  },
  {
   "cell_type": "code",
   "execution_count": null,
   "metadata": {
    "colab": {
     "base_uri": "https://localhost:8080/",
     "height": 345
    },
    "id": "rW4qgJpsCnOG",
    "outputId": "18cac09d-404b-4746-e27c-76cd7af477f5"
   },
   "outputs": [],
   "source": [
    "from sklearn.preprocessing import MinMaxScaler\n",
    "ms=MinMaxScaler()\n",
    "x=ms.fit_transform(x)"
   ]
  },
  {
   "cell_type": "code",
   "execution_count": null,
   "metadata": {
    "id": "VNqwTnLCEfcT"
   },
   "outputs": [],
   "source": [
    "x=pd.DataFrame(x,columns=[cols])"
   ]
  },
  {
   "cell_type": "code",
   "execution_count": null,
   "metadata": {
    "colab": {
     "base_uri": "https://localhost:8080/",
     "height": 299
    },
    "id": "_7t4ef-sEoln",
    "outputId": "a6d009c0-cd44-4cb0-97fa-4d459e1c61c1"
   },
   "outputs": [],
   "source": [
    "x.head()"
   ]
  },
  {
   "cell_type": "code",
   "execution_count": null,
   "metadata": {
    "colab": {
     "base_uri": "https://localhost:8080/",
     "height": 345
    },
    "id": "uMIuTmSWEuCm",
    "outputId": "a73464b0-6e80-4041-ef9f-bd4a480041f0"
   },
   "outputs": [],
   "source": [
    "from sklearn.cluster import KMeans\n",
    "kmeans=KMeans(n_clusters=2,random_state=0)\n",
    "kmeans.fit(x)"
   ]
  },
  {
   "cell_type": "code",
   "execution_count": null,
   "metadata": {
    "colab": {
     "base_uri": "https://localhost:8080/",
     "height": 165
    },
    "id": "whzT8i0WFHZ_",
    "outputId": "fd7f0606-3dda-420b-acf2-7d6283a51676"
   },
   "outputs": [],
   "source": [
    "kmeans.cluster_centers()"
   ]
  },
  {
   "cell_type": "code",
   "execution_count": null,
   "metadata": {
    "colab": {
     "base_uri": "https://localhost:8080/",
     "height": 165
    },
    "id": "7OOAQ-xGFa-X",
    "outputId": "dcfc367f-52cf-492d-a869-09e84848801e"
   },
   "outputs": [],
   "source": [
    "kmeans.inertia_"
   ]
  },
  {
   "cell_type": "code",
   "execution_count": null,
   "metadata": {
    "colab": {
     "base_uri": "https://localhost:8080/",
     "height": 217
    },
    "id": "SnlAoWhtFf5B",
    "outputId": "f863ffbc-7dcf-4f1f-a99a-0d31104189a1"
   },
   "outputs": [],
   "source": [
    "labels=kmeans.labels_\n",
    "#Check how many of the samples were correctly labeled\n",
    "correct_labels=sum(y==labels)\n",
    "print(\"Result:%d out of %d samples were correctly labeled.\"%(correct_labels,y.size))"
   ]
  },
  {
   "cell_type": "code",
   "execution_count": null,
   "metadata": {
    "colab": {
     "base_uri": "https://localhost:8080/",
     "height": 165
    },
    "id": "iiQwe1oiGa7W",
    "outputId": "e91291fc-50ad-42ab-87dd-d1d2974093b4"
   },
   "outputs": [],
   "source": [
    "print('Accuracy score:{0:0.2f}'.format(correct_labels/float(y.size)))"
   ]
  },
  {
   "cell_type": "code",
   "execution_count": null,
   "metadata": {
    "colab": {
     "base_uri": "https://localhost:8080/",
     "height": 380
    },
    "id": "zv4HDxGBIAPr",
    "outputId": "dded37c4-8e54-4a25-9f6c-b140f59946b4"
   },
   "outputs": [],
   "source": [
    "from sklearn.cluster import KMeans\n",
    "cs=[]\n",
    "for i in range(1,11):\n",
    "  kmeans=KMeans(n_clusters=i,init='k-means++',max_iter=300,n_init=10,random_state=0)\n",
    "  kmeans.fit(x)\n",
    "  cs.append(kmeans.inertia_)\n",
    "plt.plot(range(1,11),cs)\n",
    "plt.title('The Elbow Method')\n",
    "plt.xlabel('Number of clusters')\n",
    "plt.ylabel('cs')\n",
    "plt.show()"
   ]
  },
  {
   "cell_type": "code",
   "execution_count": null,
   "metadata": {
    "colab": {
     "base_uri": "https://localhost:8080/",
     "height": 380
    },
    "id": "dnx6dTuZJT2f",
    "outputId": "9aa5e840-0033-4d92-a3bb-89ddf11c358a"
   },
   "outputs": [],
   "source": [
    "from sklearn.cluster import KMeans\n",
    "kmeans=KMeans(n_clusters=2,random_state=0)\n",
    "kmeans.fit(x)\n",
    "labels=kmeans.labels_\n",
    "#Check how many of the samples were correctly labeled\n",
    "correct_labels=sum(y==lables)\n",
    "print(\"Result: %d out of %d samples were correctly labeled.\"%(correct_labels,y.size))\n",
    "print('Accuracy score: {0:0.2f}'.format(correct_labels/float(y.size)))\n",
    "\n"
   ]
  },
  {
   "cell_type": "code",
   "execution_count": null,
   "metadata": {
    "colab": {
     "base_uri": "https://localhost:8080/",
     "height": 380
    },
    "id": "WLBJ9t98LcpO",
    "outputId": "f8168bf7-1fc7-47aa-ae43-1f680b396178"
   },
   "outputs": [],
   "source": [
    "kmeans=KMeans(n_clusters=3,random_state=0)\n",
    "kmeans.fit(x)\n",
    "labels=kmeans.labels_\n",
    "#Check how many of the samples were correctly labeled\n",
    "correct_labels=sum(y==lables)\n",
    "print(\"Result: %d out of %d samples were correctly labeled.\"%(correct_labels,y.size))\n",
    "print('Accuracy score: {0:0.2f}'.format(correct_labels/float(y.size)))"
   ]
  },
  {
   "cell_type": "code",
   "execution_count": null,
   "metadata": {
    "colab": {
     "base_uri": "https://localhost:8080/",
     "height": 380
    },
    "id": "dFMf_Vq2MeSQ",
    "outputId": "7e8f8177-b4db-48e2-95af-6fb177aa3158"
   },
   "outputs": [],
   "source": [
    "kmeans=KMeans(n_clusters=4,random_state=0)\n",
    "kmeans.fit(x)\n",
    "labels=kmeans.labels_\n",
    "#Check how many of the samples were correctly labeled\n",
    "correct_labels=sum(y==lables)\n",
    "print(\"Result: %d out of %d samples were correctly labeled.\"%(correct_labels,y.size))\n",
    "print('Accuracy score: {0:0.2f}'.format(correct_labels/float(y.size)))"
   ]
  }
 ],
 "metadata": {
  "colab": {
   "provenance": []
  },
  "kernelspec": {
   "display_name": "Python 3",
   "language": "python",
   "name": "python3"
  },
  "language_info": {
   "codemirror_mode": {
    "name": "ipython",
    "version": 3
   },
   "file_extension": ".py",
   "mimetype": "text/x-python",
   "name": "python",
   "nbconvert_exporter": "python",
   "pygments_lexer": "ipython3",
   "version": "3.8.3"
  }
 },
 "nbformat": 4,
 "nbformat_minor": 1
}
